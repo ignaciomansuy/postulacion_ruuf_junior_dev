{
 "cells": [
  {
   "cell_type": "code",
   "execution_count": null,
   "metadata": {},
   "outputs": [],
   "source": []
  },
  {
   "cell_type": "code",
   "execution_count": 12,
   "metadata": {},
   "outputs": [],
   "source": [
    "\n",
    "\n",
    "def grid_size(horizontal_length: int, vertical_length: int, x: int, y: int, cx: int=0, cy: int=0):\n",
    "  return (x // horizontal_length - cx) * (y // vertical_length - cy)\n",
    "\n",
    "\n",
    "def get_rects_right_to_bottom(horizontal_length: int, vertical_length: int, x: int, y: int, c: int=0):\n",
    "  return grid_size( vertical_length, horizontal_length,\n",
    "                    x - horizontal_length * (x // horizontal_length - c),\n",
    "                    y)\n",
    "  \n",
    "def get_rects_bottom(horizontal_length: int, vertical_length: int, x: int, y: int, cx: int=0, cy: int=0):\n",
    "  return grid_size( vertical_length, horizontal_length,\n",
    "                    horizontal_length * (x // horizontal_length - cx),\n",
    "                    y % vertical_length + cy * vertical_length)\n",
    "\n",
    "\n",
    "def helper(horizontal_length: int, vertical_length: int, x: int, y: int):\n",
    "  # All optimal solutions are made of 1 big grid, and then 0 or 1 column and/or row of little rects rotated in 90°\n",
    "  big_grid = grid_size(horizontal_length, vertical_length, x, y)\n",
    "  \n",
    "  grid_minus_1_horizontally = grid_size(horizontal_length, vertical_length, x, y, cx=1)\n",
    "  grid_minus_1_vertically = grid_size(horizontal_length, vertical_length, x, y, cy=1)\n",
    "  \n",
    "  amounts_of_columns = x // horizontal_length\n",
    "  amounts_of_rows = y // vertical_length \n",
    "  \n",
    "  if (x - horizontal_length * amounts_of_columns) // vertical_length == 0 and \\\n",
    "      (x - horizontal_length * (amounts_of_columns - 1)) // vertical_length >= 1:\n",
    "      grid_minus_1_horizontally += get_rects_right_to_bottom(horizontal_length, vertical_length, x, y, c=1)\n",
    "      \n",
    "  temp = get_rects_right_to_bottom(horizontal_length, vertical_length, x, y)\n",
    "  big_grid += temp\n",
    "  grid_minus_1_vertically += temp\n",
    "  \n",
    "  if (y - vertical_length * amounts_of_rows) // horizontal_length == 0 and \\\n",
    "      (y - vertical_length * (amounts_of_rows - 1) // horizontal_length >= 1):\n",
    "      grid_minus_1_vertically += get_rects_bottom(horizontal_length, vertical_length, x, y, cy=1)\n",
    "  \n",
    "  temp = get_rects_bottom(horizontal_length, vertical_length, x, y)\n",
    "  big_grid += temp\n",
    "  grid_minus_1_horizontally += temp\n",
    "  \n",
    "  return max(big_grid, grid_minus_1_horizontally, grid_minus_1_vertically)\n",
    "  \n",
    "\n",
    "\n",
    "def max_amount_of_rects_in_rect(a: int, b: int , x: int, y: int):\n",
    "  \n",
    "  option1 = helper(a, b, x, y)\n",
    "  option2 = helper(b, a, x, y)\n",
    "  \n",
    "  return max(option1, option2)\n",
    "    \n",
    "  "
   ]
  },
  {
   "cell_type": "code",
   "execution_count": 14,
   "metadata": {},
   "outputs": [
    {
     "data": {
      "text/plain": [
       "39"
      ]
     },
     "execution_count": 14,
     "metadata": {},
     "output_type": "execute_result"
    }
   ],
   "source": [
    "max_amount_of_rects_in_rect(21, 16, 100, 140)"
   ]
  },
  {
   "cell_type": "code",
   "execution_count": 15,
   "metadata": {},
   "outputs": [
    {
     "data": {
      "text/plain": [
       "41"
      ]
     },
     "execution_count": 15,
     "metadata": {},
     "output_type": "execute_result"
    }
   ],
   "source": [
    "max_amount_of_rects_in_rect(16, 21, 105, 133)"
   ]
  },
  {
   "cell_type": "code",
   "execution_count": null,
   "metadata": {},
   "outputs": [],
   "source": []
  }
 ],
 "metadata": {
  "kernelspec": {
   "display_name": "Python 3",
   "language": "python",
   "name": "python3"
  },
  "language_info": {
   "codemirror_mode": {
    "name": "ipython",
    "version": 3
   },
   "file_extension": ".py",
   "mimetype": "text/x-python",
   "name": "python",
   "nbconvert_exporter": "python",
   "pygments_lexer": "ipython3",
   "version": "3.10.0"
  }
 },
 "nbformat": 4,
 "nbformat_minor": 2
}
