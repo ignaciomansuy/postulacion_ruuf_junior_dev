{
 "cells": [
  {
   "cell_type": "code",
   "execution_count": 1,
   "metadata": {},
   "outputs": [],
   "source": [
    "def maxAmountOfRectsInRect(a: int, b: int , x: int, y: int) -> int:\n",
    "  \"\"\"\n",
    "  All optimal solutions can be represented graphically as a big grid made of the smaller rectangles (aligned to the top\n",
    "  and left of the big rectangle), all with the same rotation.\n",
    "  Plus 0, 1 or more rows and/or columns (made of rotated (90°) rectangles) at the bottom\n",
    "  and right of the big grid.\n",
    "  \n",
    "  This function calculates the optimal solution using \"a\" as the horizontal lenght and \"b\" the\n",
    "  vertical length of the small rectangles of the big grid and then viceversa.\n",
    "  \n",
    "  Returns the max of both solutions.\n",
    "  \n",
    "  Args:\n",
    "      a (int): width of smaller rectangle\n",
    "      b (int): heigth of smaller rectangle\n",
    "      x (int): width of bigger rectangle\n",
    "      y (int): heigth of bigger rectangle\n",
    "\n",
    "  Returns:\n",
    "      int: maximal amount of small rectangles that fit in big rectangle without overlap\n",
    "  \"\"\"\n",
    "  option1 = optimalSolutionFixedOrientation(a, b, x, y)\n",
    "  option2 = optimalSolutionFixedOrientation(b, a, x, y)\n",
    "  \n",
    "  return max(option1, option2)\n",
    "    \n",
    "\n",
    "\n",
    "def optimalSolutionFixedOrientation(horizontal_length: int, vertical_length: int, x: int, y: int) -> int:\n",
    "  \"\"\"\n",
    "  All optimal solutions can be represented graphically as a big grid made of the smaller rectangles (aligned to the top\n",
    "  and left of the big rectangle), all with the same rotation.\n",
    "  Plus 0, 1 or more rows and/or columns (made of rotated (90°) rectangles) at the bottom\n",
    "  and right of the big grid.\n",
    "  Here we use 3 variables:\n",
    "  \n",
    "  big_grid: biggest grid posible using the given horizontal and vertical length and then we add the rotated rectangles \n",
    "            that can fit at the bottom and right of this grid. \n",
    "  grid_minus_1_horizontally: the same as the previous variable, but the grid has 1 less column \n",
    "  grid_minus_1_vertically: the same as \"big_grid\", but the grid has 1 less row.\n",
    "  \n",
    "  \n",
    "  \n",
    "  Args:\n",
    "      horizontal_length (int): of small rectangle\n",
    "      vertical_length (int): of small rectangle\n",
    "      x (int): width of bigger rectangle\n",
    "      y (int): heigth of bigger rectangle\n",
    "\n",
    "  Returns:\n",
    "      int: maximal amount of small rectangles with fixed orientation in the main grid that fit in big rectangle \n",
    "  \"\"\"\n",
    "  \n",
    "  big_grid = gridSize(horizontal_length, vertical_length, x, y)\n",
    "  \n",
    "  grid_minus_1_horizontally = gridSize(horizontal_length, vertical_length, x, y, cx=1)\n",
    "  grid_minus_1_vertically = gridSize(horizontal_length, vertical_length, x, y, cy=1)\n",
    "  \n",
    "  amounts_of_columns = x // horizontal_length\n",
    "  amounts_of_rows = y // vertical_length \n",
    "  \n",
    "  if (x - horizontal_length * amounts_of_columns) // vertical_length == 0 and \\\n",
    "      (x - horizontal_length * (amounts_of_columns - 1)) // vertical_length >= 1:\n",
    "      grid_minus_1_horizontally += amountOfRectsInRightRectangle(horizontal_length, vertical_length, x, y, cx=1)\n",
    "      grid_minus_1_horizontally += amountOfRectsInBottomRectangle(horizontal_length, vertical_length, x, y, cx=1)\n",
    "      \n",
    "  temp = amountOfRectsInRightRectangle(horizontal_length, vertical_length, x, y)\n",
    "  big_grid += temp\n",
    "  grid_minus_1_vertically += temp\n",
    "  \n",
    "  if (y - vertical_length * amounts_of_rows) // horizontal_length == 0 and \\\n",
    "      (y - vertical_length * (amounts_of_rows - 1) // horizontal_length >= 1):\n",
    "      grid_minus_1_vertically += amountOfRectsInBottomRectangle(horizontal_length, vertical_length, x, y, cy=1)\n",
    "  \n",
    "  big_grid += amountOfRectsInBottomRectangle(horizontal_length, vertical_length, x, y)\n",
    "  \n",
    "  return max(big_grid, grid_minus_1_horizontally, grid_minus_1_vertically)\n",
    "  \n",
    "def gridSize(horizontal_length: int, vertical_length: int, x: int, y: int, cx: int=0, cy: int=0):\n",
    "  return (x // horizontal_length - cx) * (y // vertical_length - cy)\n",
    "\n",
    "\n",
    "def amountOfRectsInRightRectangle(horizontal_length: int, vertical_length: int, x: int, y: int, cx: int=0) -> int:\n",
    "  \"\"\"\n",
    "  Calculates the amount of rectangles that fit in the blank space on the right of the original big rectangle.\n",
    "  It uses the full heigth of the original big rectangle.\n",
    "\n",
    "  Args:\n",
    "      horizontal_length (int): original horizontal length of small rectangle\n",
    "      vertical_length (int): original vertical length of small rectangle\n",
    "      x (int): width of bigger rectangle\n",
    "      y (int): heigth of bigger rectangle\n",
    "      cx (int, optional): Amount columns that are eliminated of the big grid. Defaults to 0.\n",
    "\n",
    "  Returns:\n",
    "      int: \n",
    "  \"\"\"\n",
    "  return gridSize( vertical_length, horizontal_length,\n",
    "                    x - horizontal_length * (x // horizontal_length - cx),\n",
    "                    y)\n",
    "  \n",
    "def amountOfRectsInBottomRectangle(horizontal_length: int, vertical_length: int, x: int, y: int, cx: int=0, cy: int=0):\n",
    "  \"\"\"\n",
    "  Calculates the amount of rectangles that fit in the blank space on the right of the original big rectangle.\n",
    "  It uses the full heigth of the original big rectangle.\n",
    "\n",
    "  Args:\n",
    "      horizontal_length (int): original horizontal length of small rectangle\n",
    "      vertical_length (int): original vertical length of small rectangle\n",
    "      x (int): width of bigger rectangle\n",
    "      y (int): heigth of bigger rectangle\n",
    "      cx (int, optional): Amount columns that are eliminated of the big grid. Defaults to 0.\n",
    "      cy (int, optional): Amount rows that are eliminated of the big grid. Defaults to 0.\n",
    "\n",
    "  Returns:\n",
    "      int: \n",
    "  \"\"\"\n",
    "  return gridSize( vertical_length, horizontal_length,\n",
    "                    horizontal_length * (x // horizontal_length - cx),\n",
    "                    y % vertical_length + cy * vertical_length)\n",
    "\n",
    "\n",
    "  "
   ]
  },
  {
   "cell_type": "code",
   "execution_count": 10,
   "metadata": {},
   "outputs": [
    {
     "data": {
      "text/plain": [
       "4"
      ]
     },
     "execution_count": 10,
     "metadata": {},
     "output_type": "execute_result"
    }
   ],
   "source": [
    "maxAmountOfRectsInRect(1, 2, 2, 4)"
   ]
  },
  {
   "cell_type": "code",
   "execution_count": 4,
   "metadata": {},
   "outputs": [
    {
     "data": {
      "text/plain": [
       "7"
      ]
     },
     "execution_count": 4,
     "metadata": {},
     "output_type": "execute_result"
    }
   ],
   "source": [
    "maxAmountOfRectsInRect(1, 2, 3, 5)"
   ]
  },
  {
   "cell_type": "code",
   "execution_count": 5,
   "metadata": {},
   "outputs": [
    {
     "data": {
      "text/plain": [
       "0"
      ]
     },
     "execution_count": 5,
     "metadata": {},
     "output_type": "execute_result"
    }
   ],
   "source": [
    "maxAmountOfRectsInRect(2, 2, 1, 10)"
   ]
  },
  {
   "cell_type": "code",
   "execution_count": 11,
   "metadata": {},
   "outputs": [
    {
     "data": {
      "text/plain": [
       "48"
      ]
     },
     "execution_count": 11,
     "metadata": {},
     "output_type": "execute_result"
    }
   ],
   "source": [
    "maxAmountOfRectsInRect(1, 2, 12, 8)"
   ]
  },
  {
   "cell_type": "code",
   "execution_count": 12,
   "metadata": {},
   "outputs": [
    {
     "data": {
      "text/plain": [
       "39"
      ]
     },
     "execution_count": 12,
     "metadata": {},
     "output_type": "execute_result"
    }
   ],
   "source": [
    "maxAmountOfRectsInRect(16, 21, 100, 135)"
   ]
  }
 ],
 "metadata": {
  "kernelspec": {
   "display_name": "Python 3",
   "language": "python",
   "name": "python3"
  },
  "language_info": {
   "codemirror_mode": {
    "name": "ipython",
    "version": 3
   },
   "file_extension": ".py",
   "mimetype": "text/x-python",
   "name": "python",
   "nbconvert_exporter": "python",
   "pygments_lexer": "ipython3",
   "version": "3.10.0"
  }
 },
 "nbformat": 4,
 "nbformat_minor": 2
}
