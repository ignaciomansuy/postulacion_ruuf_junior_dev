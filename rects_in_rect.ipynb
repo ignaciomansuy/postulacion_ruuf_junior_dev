{
 "cells": [
  {
   "cell_type": "code",
   "execution_count": null,
   "metadata": {},
   "outputs": [],
   "source": []
  },
  {
   "cell_type": "code",
   "execution_count": null,
   "metadata": {},
   "outputs": [],
   "source": []
  },
  {
   "cell_type": "code",
   "execution_count": 4,
   "metadata": {},
   "outputs": [],
   "source": [
    "def grid_size(horizontal_length: int, vertical_length: int, x: int, y: int):\n",
    "  return (x // horizontal_length) * (y // vertical_length)\n",
    "\n",
    "\n",
    "def helper(horizontal_length: int, vertical_length: int, x: int, y: int):\n",
    "  grid = grid_size(horizontal_length, vertical_length, x, y)\n",
    "  rects_far_right_full_x = grid_size(\n",
    "                            vertical_length, horizontal_length,\n",
    "                            x - horizontal_length * (x // horizontal_length),\n",
    "                            vertical_length * (y // vertical_length)\n",
    "                          )\n",
    "  \n",
    "  rects_far_bottom_full_x = grid_size(\n",
    "                              vertical_length, horizontal_length,\n",
    "                              x,\n",
    "                              y % vertical_length\n",
    "                            )\n",
    "  return rects_far_right_full_x + rects_far_bottom_full_x + grid\n",
    "  \n",
    "\n",
    "\n",
    "def max_amount_of_rects_in_rect(a: int, b: int , x: int, y: int):\n",
    "  \n",
    "  # 1) \"a\" is horizontal and \"b\" vertical in first grid\n",
    "  grid_1 = grid_size(a, b, x, y)\n",
    "  \n",
    "  \n",
    "  grid_2 = grid_size(b, a, x, y)\n",
    "  \n",
    "  if grid_1 <= 0 and grid_2 <= 0:\n",
    "    # Base case\n",
    "    return 0\n",
    "\n",
    "\n",
    "  if grid_1 >= grid_2:\n",
    "    horizontal_length = a\n",
    "    vertical_length = b\n",
    "    current_grid = grid_1\n",
    "    \n",
    "  else:\n",
    "    horizontal_length = b\n",
    "    vertical_length = a\n",
    "    current_grid = grid_2\n",
    "    \n",
    "    \n",
    "    \n",
    "  # Here we can make two pairs of new rectangles \n",
    "  # 1) Using the full length of x\n",
    "  rects_far_right_full_x = max_amount_of_rects_in_rect(\n",
    "                            a, b,\n",
    "                            x - horizontal_length * (x // horizontal_length),\n",
    "                            vertical_length * (y // vertical_length)\n",
    "                          )\n",
    "  \n",
    "  rects_far_bottom_full_x = max_amount_of_rects_in_rect(\n",
    "                              a, b,\n",
    "                              x,\n",
    "                              y % vertical_length\n",
    "                            )\n",
    "  option1 = rects_far_right_full_x + rects_far_bottom_full_x + current_grid\n",
    "  \n",
    "  # 2) Using the full length of y\n",
    "  rects_far_right_full_y = max_amount_of_rects_in_rect(\n",
    "                            a, b,\n",
    "                            x - horizontal_length * (x // horizontal_length),\n",
    "                            y\n",
    "                          )\n",
    "  rects_far_bottom_full_y = max_amount_of_rects_in_rect(\n",
    "                              a, b,\n",
    "                              horizontal_length * (x // horizontal_length),\n",
    "                              y % vertical_length\n",
    "                            )\n",
    "  option2 = rects_far_right_full_y + rects_far_bottom_full_y + current_grid\n",
    "  \n",
    "  return option1 if option1 >= option2 else option2\n",
    "      \n",
    "    \n",
    "  "
   ]
  },
  {
   "cell_type": "code",
   "execution_count": 8,
   "metadata": {},
   "outputs": [
    {
     "data": {
      "text/plain": [
       "36"
      ]
     },
     "execution_count": 8,
     "metadata": {},
     "output_type": "execute_result"
    }
   ],
   "source": [
    "max_amount_of_rects_in_rect(16, 21, 100, 140)"
   ]
  },
  {
   "cell_type": "code",
   "execution_count": null,
   "metadata": {},
   "outputs": [],
   "source": []
  }
 ],
 "metadata": {
  "kernelspec": {
   "display_name": "Python 3",
   "language": "python",
   "name": "python3"
  },
  "language_info": {
   "codemirror_mode": {
    "name": "ipython",
    "version": 3
   },
   "file_extension": ".py",
   "mimetype": "text/x-python",
   "name": "python",
   "nbconvert_exporter": "python",
   "pygments_lexer": "ipython3",
   "version": "3.10.0"
  }
 },
 "nbformat": 4,
 "nbformat_minor": 2
}
