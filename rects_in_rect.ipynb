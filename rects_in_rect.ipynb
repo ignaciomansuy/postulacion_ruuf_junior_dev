{
 "cells": [
  {
   "cell_type": "code",
   "execution_count": null,
   "metadata": {},
   "outputs": [],
   "source": []
  },
  {
   "cell_type": "code",
   "execution_count": null,
   "metadata": {},
   "outputs": [],
   "source": []
  },
  {
   "cell_type": "code",
   "execution_count": 11,
   "metadata": {},
   "outputs": [],
   "source": [
    "def grid_size(horizontal_length: int, vertical_length: int, x: int, y: int):\n",
    "  return (x // horizontal_length) * (y // vertical_length)\n",
    "\n",
    "\n",
    "def helper(horizontal_length: int, vertical_length: int, x: int, y: int):\n",
    "  grid = grid_size(horizontal_length, vertical_length, x, y)\n",
    "  rects_far_right_full_x = grid_size(\n",
    "                            vertical_length, horizontal_length,\n",
    "                            x - horizontal_length * (x // horizontal_length),\n",
    "                            vertical_length * (y // vertical_length)\n",
    "                          )\n",
    "  \n",
    "  rects_far_bottom_full_x = grid_size(\n",
    "                              vertical_length, horizontal_length,\n",
    "                              x,\n",
    "                              y % vertical_length\n",
    "                            )\n",
    "  return rects_far_right_full_x + rects_far_bottom_full_x + grid\n",
    "  \n",
    "\n",
    "\n",
    "def max_amount_of_rects_in_rect(a: int, b: int , x: int, y: int):\n",
    "  \n",
    "  option1 = helper(a, b, x, y)\n",
    "  option2 = helper(b, a, x, y)\n",
    "  \n",
    "  return option1 if option1 >= option2 else option2\n",
    "      \n",
    "    \n",
    "  "
   ]
  },
  {
   "cell_type": "code",
   "execution_count": 12,
   "metadata": {},
   "outputs": [
    {
     "data": {
      "text/plain": [
       "38"
      ]
     },
     "execution_count": 12,
     "metadata": {},
     "output_type": "execute_result"
    }
   ],
   "source": [
    "max_amount_of_rects_in_rect(16, 21, 100, 140)"
   ]
  },
  {
   "cell_type": "code",
   "execution_count": null,
   "metadata": {},
   "outputs": [],
   "source": []
  }
 ],
 "metadata": {
  "kernelspec": {
   "display_name": "Python 3",
   "language": "python",
   "name": "python3"
  },
  "language_info": {
   "codemirror_mode": {
    "name": "ipython",
    "version": 3
   },
   "file_extension": ".py",
   "mimetype": "text/x-python",
   "name": "python",
   "nbconvert_exporter": "python",
   "pygments_lexer": "ipython3",
   "version": "3.10.0"
  }
 },
 "nbformat": 4,
 "nbformat_minor": 2
}
