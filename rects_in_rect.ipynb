{
 "cells": [
  {
   "cell_type": "code",
   "execution_count": null,
   "metadata": {},
   "outputs": [],
   "source": []
  },
  {
   "cell_type": "code",
   "execution_count": 19,
   "metadata": {},
   "outputs": [],
   "source": [
    "\n",
    "def grid_size(horizontal_length: int, vertical_length: int, x: int, y: int, cx: int=0, cy: int=0):\n",
    "  return (x // horizontal_length - cx) * (y // vertical_length - cy)\n",
    "\n",
    "\n",
    "def get_rects_right(horizontal_length: int, vertical_length: int, x: int, y: int, c: int=0):\n",
    "  return grid_size( vertical_length, horizontal_length,\n",
    "                    x - horizontal_length * (x // horizontal_length - c),\n",
    "                    vertical_length * (y // vertical_length))\n",
    "  \n",
    "def get_rects_bottom(horizontal_length: int, vertical_length: int, x: int, y: int, c: int=0):\n",
    "  return grid_size( vertical_length, horizontal_length,\n",
    "                    x,\n",
    "                    y % vertical_length + c * vertical_length)\n",
    "\n",
    "\n",
    "def helper(horizontal_length: int, vertical_length: int, x: int, y: int):\n",
    "  # All optimal solutions are made of 1 big grid, and then 0 or 1 column and/or row of little rects rotated in 90°\n",
    "  big_grid = grid_size(horizontal_length, vertical_length, x, y)\n",
    "  rects_right_big_grid = get_rects_right(horizontal_length, vertical_length, x, y)\n",
    "  rects_bottom_big_grid = get_rects_bottom(horizontal_length, vertical_length, x, y)\n",
    "  \n",
    "  rects_with_big_grid = rects_right_big_grid + rects_bottom_big_grid + big_grid\n",
    "  \n",
    "  # There are some cases were the optimal solution requires to not put the biggest initial grid\n",
    "  \n",
    "  rects_right_small_grid = get_rects_right(horizontal_length, vertical_length, x, y, c=1)\n",
    "  rects_bottom_small_grid = get_rects_bottom(horizontal_length, vertical_length, x, y, c=1)\n",
    "  \n",
    "  \n",
    "  a = [rects_with_big_grid,\n",
    "    grid_size(horizontal_length, vertical_length, x, y, cx=1) + rects_right_small_grid + rects_bottom_big_grid,\n",
    "    grid_size(horizontal_length, vertical_length, x, y, cy=1) + rects_right_big_grid + rects_bottom_small_grid,\n",
    "    grid_size(horizontal_length, vertical_length, x, y, cx=1, cy=1) + rects_right_small_grid + rects_bottom_small_grid,]\n",
    "    \n",
    "  \n",
    "  return max(\n",
    "    a\n",
    "    \n",
    "  )\n",
    "  \n",
    "\n",
    "\n",
    "def max_amount_of_rects_in_rect(a: int, b: int , x: int, y: int):\n",
    "  \n",
    "  option1 = helper(a, b, x, y)\n",
    "  option2 = helper(b, a, x, y)\n",
    "  \n",
    "  return option1 if option1 >= option2 else option2\n",
    "      \n",
    "    \n",
    "  "
   ]
  },
  {
   "cell_type": "code",
   "execution_count": 20,
   "metadata": {},
   "outputs": [
    {
     "data": {
      "text/plain": [
       "40"
      ]
     },
     "execution_count": 20,
     "metadata": {},
     "output_type": "execute_result"
    }
   ],
   "source": [
    "max_amount_of_rects_in_rect(16, 21, 100, 140)"
   ]
  },
  {
   "cell_type": "code",
   "execution_count": null,
   "metadata": {},
   "outputs": [],
   "source": [
    "max_amount_of_rects_in_rect(16, 21, 105, 133)"
   ]
  }
 ],
 "metadata": {
  "kernelspec": {
   "display_name": "Python 3",
   "language": "python",
   "name": "python3"
  },
  "language_info": {
   "codemirror_mode": {
    "name": "ipython",
    "version": 3
   },
   "file_extension": ".py",
   "mimetype": "text/x-python",
   "name": "python",
   "nbconvert_exporter": "python",
   "pygments_lexer": "ipython3",
   "version": "3.10.0"
  }
 },
 "nbformat": 4,
 "nbformat_minor": 2
}
